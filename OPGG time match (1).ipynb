{
 "cells": [
  {
   "cell_type": "code",
   "execution_count": 1,
   "id": "99fb87b3",
   "metadata": {},
   "outputs": [],
   "source": [
    "#Librerias a utilizar. \n",
    "from selenium import webdriver\n",
    "from selenium.webdriver.common.by import By\n",
    "from selenium.webdriver.support.ui import WebDriverWait\n",
    "from selenium.webdriver.support import expected_conditions as EC\n",
    "from bs4 import BeautifulSoup\n",
    "import pandas as pd\n",
    "import time"
   ]
  },
  {
   "cell_type": "code",
   "execution_count": 5,
   "id": "9aadc5e1",
   "metadata": {},
   "outputs": [],
   "source": [
    "#Url de los perfiles que queremos scrapear. Cada perfil contiene un historial de veinte partidas.\n",
    "urls = [\n",
    "    \"https://www.op.gg/summoners/las/HarambeIsLove-LAS\",\n",
    "    \"https://www.op.gg/summoners/las/La%20Verg%C3%A2-LAS\",\n",
    "    \"https://www.op.gg/summoners/las/Lykans981-LAS\",\n",
    "    \"https://www.op.gg/summoners/las/Inspectordt3t4s-LAS\",\n",
    "    \"https://www.op.gg/summoners/las/linkinooo-LAS\",\n",
    "    \"https://www.op.gg/summoners/las/BlahzZ-LAS\",\n",
    "]\n",
    "driver = webdriver.Edge()"
   ]
  },
  {
   "cell_type": "code",
   "execution_count": 6,
   "id": "4490f507",
   "metadata": {},
   "outputs": [],
   "source": [
    "#Se crea una lista.\n",
    "all_game_durations = []"
   ]
  },
  {
   "cell_type": "code",
   "execution_count": 7,
   "id": "84c34a67",
   "metadata": {
    "scrolled": true
   },
   "outputs": [
    {
     "name": "stdout",
     "output_type": "stream",
     "text": [
      "   match time\n",
      "0     32m 55s\n",
      "1     32m 13s\n",
      "2     38m 45s\n",
      "3     26m 51s\n",
      "4      35m 4s\n",
      "..        ...\n",
      "94    28m 35s\n",
      "95    21m 14s\n",
      "96    25m 54s\n",
      "97    15m 22s\n",
      "98    28m 48s\n",
      "\n",
      "[99 rows x 1 columns]\n"
     ]
    }
   ],
   "source": [
    "for url in urls:\n",
    "    driver.get(url)\n",
    "\n",
    "    #Esto es para operar con button, es decir, hacer que el programa despliegue el contenido que involucra carga dinamica.\n",
    "    try:\n",
    "        solo_ranked_button = WebDriverWait(driver, 10).until(\n",
    "            EC.presence_of_element_located((By.XPATH, \"//button[@value='SOLORANKED']\"))\n",
    "        )\n",
    "        solo_ranked_button.click()\n",
    "    except Exception as e:\n",
    "        print(f\"No se pudo hacer clic en el botón SOLORANKED: {e}\")\n",
    "\n",
    "    #El tiempo de carga es de dos segundos. Se pueden incluir otras operaciones en esta sección, por ejemplo para que se carguen\n",
    "    #más partidas además de las 20 que ofrece inicialmente. \n",
    "    time.sleep(2)  \n",
    "\n",
    "    # Esto es para obtener el contenido HTML de la pagína.\n",
    "    page_source = driver.page_source\n",
    "\n",
    "    soup = BeautifulSoup(page_source, 'html.parser')\n",
    "\n",
    "    # Este es el elemento que queremos tomar de la pagína: el tiempo o duración de partida.\n",
    "    game_durations = soup.find_all('div', class_='length')\n",
    "\n",
    "    # Se agregan las duraciones a la lista.\n",
    "    for game_duration in game_durations:\n",
    "        duration_text = game_duration.text.strip()\n",
    "        all_game_durations.append(duration_text)\n",
    "\n",
    "# Se crea el dataframe para estructurar los datos.\n",
    "df = pd.DataFrame({'match time': all_game_durations})\n",
    "\n",
    "print(df)\n"
   ]
  },
  {
   "cell_type": "code",
   "execution_count": 8,
   "id": "6c0cd9e7",
   "metadata": {},
   "outputs": [],
   "source": [
    "#Lo descargamos como archivo de texto, y el index se añade para eliminar la columna de id que agrega python.\n",
    "df.to_csv(r'G:\\Python scrapes\\OPGG\\gameDurationBronce.csv', index = False)"
   ]
  },
  {
   "cell_type": "code",
   "execution_count": 207,
   "id": "ea8fecde",
   "metadata": {},
   "outputs": [],
   "source": [
    "#cierre de la pagína.\n",
    "driver.quit()"
   ]
  },
  {
   "cell_type": "code",
   "execution_count": null,
   "id": "c2d1697f",
   "metadata": {},
   "outputs": [],
   "source": []
  },
  {
   "cell_type": "code",
   "execution_count": null,
   "id": "93613aa9",
   "metadata": {},
   "outputs": [],
   "source": []
  },
  {
   "cell_type": "code",
   "execution_count": null,
   "id": "cc100b66",
   "metadata": {},
   "outputs": [],
   "source": []
  },
  {
   "cell_type": "code",
   "execution_count": null,
   "id": "2a9ff28a",
   "metadata": {},
   "outputs": [],
   "source": []
  },
  {
   "cell_type": "code",
   "execution_count": 181,
   "id": "c3311605",
   "metadata": {},
   "outputs": [
    {
     "name": "stdout",
     "output_type": "stream",
     "text": [
      "No se pudo hacer clic en el botón SOLORANKED: Message: no such window: target window already closed\n",
      "from unknown error: web view not found\n",
      "  (Session info: MicrosoftEdge=121.0.2277.98)\n",
      "Stacktrace:\n",
      "\tGetHandleVerifier [0x00007FF6D8CEBC42+60738]\n",
      "\tMicrosoft::Applications::Events::ILogConfiguration::operator* [0x00007FF6D8C77EE2+233106]\n",
      "\t(No symbol) [0x00007FF6D8A8AE0B]\n",
      "\t(No symbol) [0x00007FF6D8A6232D]\n",
      "\t(No symbol) [0x00007FF6D8B03181]\n",
      "\t(No symbol) [0x00007FF6D8B18CB3]\n",
      "\t(No symbol) [0x00007FF6D8AFC233]\n",
      "\t(No symbol) [0x00007FF6D8ACD568]\n",
      "\t(No symbol) [0x00007FF6D8ACC394]\n",
      "\t(No symbol) [0x00007FF6D8ACD101]\n",
      "\tMicrosoft::Applications::Events::EventProperty::to_string [0x00007FF6D8EA878C+1074636]\n",
      "\t(No symbol) [0x00007FF6D8B50F45]\n",
      "\t(No symbol) [0x00007FF6D8BE8F6C]\n",
      "\t(No symbol) [0x00007FF6D8BE0A5D]\n",
      "\tMicrosoft::Applications::Events::EventProperty::to_string [0x00007FF6D8EA71D3+1069075]\n",
      "\tMicrosoft::Applications::Events::ILogConfiguration::operator* [0x00007FF6D8C81E38+273896]\n",
      "\tMicrosoft::Applications::Events::ILogConfiguration::operator* [0x00007FF6D8C7CB44+252660]\n",
      "\tMicrosoft::Applications::Events::ILogConfiguration::operator* [0x00007FF6D8C7CC72+252962]\n",
      "\tMicrosoft::Applications::Events::ILogConfiguration::operator* [0x00007FF6D8C73271+213537]\n",
      "\tBaseThreadInitThunk [0x00007FF841BC7344+20]\n",
      "\tRtlUserThreadStart [0x00007FF842AE26B1+33]\n",
      "\n"
     ]
    },
    {
     "ename": "NoSuchWindowException",
     "evalue": "Message: no such window: target window already closed\nfrom unknown error: web view not found\n  (Session info: MicrosoftEdge=121.0.2277.98)\nStacktrace:\n\tGetHandleVerifier [0x00007FF6D8CEBC42+60738]\n\tMicrosoft::Applications::Events::ILogConfiguration::operator* [0x00007FF6D8C77EE2+233106]\n\t(No symbol) [0x00007FF6D8A8AE0B]\n\t(No symbol) [0x00007FF6D8A6232D]\n\t(No symbol) [0x00007FF6D8B03181]\n\t(No symbol) [0x00007FF6D8B18CB3]\n\t(No symbol) [0x00007FF6D8AFC233]\n\t(No symbol) [0x00007FF6D8ACD568]\n\t(No symbol) [0x00007FF6D8ACC394]\n\t(No symbol) [0x00007FF6D8ACD101]\n\tMicrosoft::Applications::Events::EventProperty::to_string [0x00007FF6D8EA878C+1074636]\n\t(No symbol) [0x00007FF6D8B50F45]\n\t(No symbol) [0x00007FF6D8BE8F6C]\n\t(No symbol) [0x00007FF6D8BE0A5D]\n\tMicrosoft::Applications::Events::EventProperty::to_string [0x00007FF6D8EA71D3+1069075]\n\tMicrosoft::Applications::Events::ILogConfiguration::operator* [0x00007FF6D8C81E38+273896]\n\tMicrosoft::Applications::Events::ILogConfiguration::operator* [0x00007FF6D8C7CB44+252660]\n\tMicrosoft::Applications::Events::ILogConfiguration::operator* [0x00007FF6D8C7CC72+252962]\n\tMicrosoft::Applications::Events::ILogConfiguration::operator* [0x00007FF6D8C73271+213537]\n\tBaseThreadInitThunk [0x00007FF841BC7344+20]\n\tRtlUserThreadStart [0x00007FF842AE26B1+33]\n",
     "output_type": "error",
     "traceback": [
      "\u001b[1;31m---------------------------------------------------------------------------\u001b[0m",
      "\u001b[1;31mNoSuchWindowException\u001b[0m                     Traceback (most recent call last)",
      "Cell \u001b[1;32mIn[181], line 39\u001b[0m\n\u001b[0;32m     36\u001b[0m time\u001b[38;5;241m.\u001b[39msleep(\u001b[38;5;241m2\u001b[39m)  \u001b[38;5;66;03m# Ejemplo: Esperar 2 segundos (puedes ajustar según sea necesario)\u001b[39;00m\n\u001b[0;32m     38\u001b[0m \u001b[38;5;66;03m# Obtener el contenido HTML de la página\u001b[39;00m\n\u001b[1;32m---> 39\u001b[0m page_source \u001b[38;5;241m=\u001b[39m \u001b[43mdriver\u001b[49m\u001b[38;5;241;43m.\u001b[39;49m\u001b[43mpage_source\u001b[49m\n\u001b[0;32m     41\u001b[0m \u001b[38;5;66;03m# Crear un objeto BeautifulSoup\u001b[39;00m\n\u001b[0;32m     42\u001b[0m soup \u001b[38;5;241m=\u001b[39m BeautifulSoup(page_source, \u001b[38;5;124m'\u001b[39m\u001b[38;5;124mhtml.parser\u001b[39m\u001b[38;5;124m'\u001b[39m)\n",
      "File \u001b[1;32m~\\anaconda3\\lib\\site-packages\\selenium\\webdriver\\remote\\webdriver.py:541\u001b[0m, in \u001b[0;36mWebDriver.page_source\u001b[1;34m(self)\u001b[0m\n\u001b[0;32m    532\u001b[0m \u001b[38;5;129m@property\u001b[39m\n\u001b[0;32m    533\u001b[0m \u001b[38;5;28;01mdef\u001b[39;00m \u001b[38;5;21mpage_source\u001b[39m(\u001b[38;5;28mself\u001b[39m) \u001b[38;5;241m-\u001b[39m\u001b[38;5;241m>\u001b[39m \u001b[38;5;28mstr\u001b[39m:\n\u001b[0;32m    534\u001b[0m     \u001b[38;5;124;03m\"\"\"Gets the source of the current page.\u001b[39;00m\n\u001b[0;32m    535\u001b[0m \n\u001b[0;32m    536\u001b[0m \u001b[38;5;124;03m    :Usage:\u001b[39;00m\n\u001b[1;32m   (...)\u001b[0m\n\u001b[0;32m    539\u001b[0m \u001b[38;5;124;03m            driver.page_source\u001b[39;00m\n\u001b[0;32m    540\u001b[0m \u001b[38;5;124;03m    \"\"\"\u001b[39;00m\n\u001b[1;32m--> 541\u001b[0m     \u001b[38;5;28;01mreturn\u001b[39;00m \u001b[38;5;28;43mself\u001b[39;49m\u001b[38;5;241;43m.\u001b[39;49m\u001b[43mexecute\u001b[49m\u001b[43m(\u001b[49m\u001b[43mCommand\u001b[49m\u001b[38;5;241;43m.\u001b[39;49m\u001b[43mGET_PAGE_SOURCE\u001b[49m\u001b[43m)\u001b[49m[\u001b[38;5;124m\"\u001b[39m\u001b[38;5;124mvalue\u001b[39m\u001b[38;5;124m\"\u001b[39m]\n",
      "File \u001b[1;32m~\\anaconda3\\lib\\site-packages\\selenium\\webdriver\\remote\\webdriver.py:440\u001b[0m, in \u001b[0;36mWebDriver.execute\u001b[1;34m(self, driver_command, params)\u001b[0m\n\u001b[0;32m    438\u001b[0m response \u001b[38;5;241m=\u001b[39m \u001b[38;5;28mself\u001b[39m\u001b[38;5;241m.\u001b[39mcommand_executor\u001b[38;5;241m.\u001b[39mexecute(driver_command, params)\n\u001b[0;32m    439\u001b[0m \u001b[38;5;28;01mif\u001b[39;00m response:\n\u001b[1;32m--> 440\u001b[0m     \u001b[38;5;28;43mself\u001b[39;49m\u001b[38;5;241;43m.\u001b[39;49m\u001b[43merror_handler\u001b[49m\u001b[38;5;241;43m.\u001b[39;49m\u001b[43mcheck_response\u001b[49m\u001b[43m(\u001b[49m\u001b[43mresponse\u001b[49m\u001b[43m)\u001b[49m\n\u001b[0;32m    441\u001b[0m     response[\u001b[38;5;124m\"\u001b[39m\u001b[38;5;124mvalue\u001b[39m\u001b[38;5;124m\"\u001b[39m] \u001b[38;5;241m=\u001b[39m \u001b[38;5;28mself\u001b[39m\u001b[38;5;241m.\u001b[39m_unwrap_value(response\u001b[38;5;241m.\u001b[39mget(\u001b[38;5;124m\"\u001b[39m\u001b[38;5;124mvalue\u001b[39m\u001b[38;5;124m\"\u001b[39m, \u001b[38;5;28;01mNone\u001b[39;00m))\n\u001b[0;32m    442\u001b[0m     \u001b[38;5;28;01mreturn\u001b[39;00m response\n",
      "File \u001b[1;32m~\\anaconda3\\lib\\site-packages\\selenium\\webdriver\\remote\\errorhandler.py:245\u001b[0m, in \u001b[0;36mErrorHandler.check_response\u001b[1;34m(self, response)\u001b[0m\n\u001b[0;32m    243\u001b[0m         alert_text \u001b[38;5;241m=\u001b[39m value[\u001b[38;5;124m\"\u001b[39m\u001b[38;5;124malert\u001b[39m\u001b[38;5;124m\"\u001b[39m]\u001b[38;5;241m.\u001b[39mget(\u001b[38;5;124m\"\u001b[39m\u001b[38;5;124mtext\u001b[39m\u001b[38;5;124m\"\u001b[39m)\n\u001b[0;32m    244\u001b[0m     \u001b[38;5;28;01mraise\u001b[39;00m exception_class(message, screen, stacktrace, alert_text)  \u001b[38;5;66;03m# type: ignore[call-arg]  # mypy is not smart enough here\u001b[39;00m\n\u001b[1;32m--> 245\u001b[0m \u001b[38;5;28;01mraise\u001b[39;00m exception_class(message, screen, stacktrace)\n",
      "\u001b[1;31mNoSuchWindowException\u001b[0m: Message: no such window: target window already closed\nfrom unknown error: web view not found\n  (Session info: MicrosoftEdge=121.0.2277.98)\nStacktrace:\n\tGetHandleVerifier [0x00007FF6D8CEBC42+60738]\n\tMicrosoft::Applications::Events::ILogConfiguration::operator* [0x00007FF6D8C77EE2+233106]\n\t(No symbol) [0x00007FF6D8A8AE0B]\n\t(No symbol) [0x00007FF6D8A6232D]\n\t(No symbol) [0x00007FF6D8B03181]\n\t(No symbol) [0x00007FF6D8B18CB3]\n\t(No symbol) [0x00007FF6D8AFC233]\n\t(No symbol) [0x00007FF6D8ACD568]\n\t(No symbol) [0x00007FF6D8ACC394]\n\t(No symbol) [0x00007FF6D8ACD101]\n\tMicrosoft::Applications::Events::EventProperty::to_string [0x00007FF6D8EA878C+1074636]\n\t(No symbol) [0x00007FF6D8B50F45]\n\t(No symbol) [0x00007FF6D8BE8F6C]\n\t(No symbol) [0x00007FF6D8BE0A5D]\n\tMicrosoft::Applications::Events::EventProperty::to_string [0x00007FF6D8EA71D3+1069075]\n\tMicrosoft::Applications::Events::ILogConfiguration::operator* [0x00007FF6D8C81E38+273896]\n\tMicrosoft::Applications::Events::ILogConfiguration::operator* [0x00007FF6D8C7CB44+252660]\n\tMicrosoft::Applications::Events::ILogConfiguration::operator* [0x00007FF6D8C7CC72+252962]\n\tMicrosoft::Applications::Events::ILogConfiguration::operator* [0x00007FF6D8C73271+213537]\n\tBaseThreadInitThunk [0x00007FF841BC7344+20]\n\tRtlUserThreadStart [0x00007FF842AE26B1+33]\n"
     ]
    }
   ],
   "source": [
    "#tercer level. Sacamos los div.lenght de cinco url y ademas ejecutamos una acción en la pagina o un button. \n",
    "from selenium import webdriver\n",
    "from selenium.webdriver.common.by import By\n",
    "from selenium.webdriver.support.ui import WebDriverWait\n",
    "from selenium.webdriver.support import expected_conditions as EC\n",
    "from bs4 import BeautifulSoup\n",
    "import pandas as pd\n",
    "import time\n",
    "\n",
    "urls = [\n",
    "    'https://www.op.gg/summoners/las/Persewhnk-LAS',\n",
    "    'https://www.op.gg/summoners/las/ZytroXx-LAS',\n",
    "    'https://www.op.gg/summoners/las/Stiifler-LAS',\n",
    "    'https://www.op.gg/summoners/las/newhome150-LAS',\n",
    "    'https://www.op.gg/summoners/las/%C3%90olores%20Crotal-777'\n",
    "]\n",
    "driver = webdriver.Edge()\n",
    "\n",
    "\n",
    "all_game_durations = []\n",
    "\n",
    "\n",
    "for url in urls:\n",
    "    driver.get(url)\n",
    "\n",
    "    # Hacer clic en el botón con el valor \"SOLORANKED\"\n",
    "    try:\n",
    "        solo_ranked_button = WebDriverWait(driver, 10).until(\n",
    "            EC.presence_of_element_located((By.XPATH, \"//button[@value='SOLORANKED']\"))\n",
    "        )\n",
    "        solo_ranked_button.click()\n",
    "    except Exception as e:\n",
    "        print(f\"No se pudo hacer clic en el botón SOLORANKED: {e}\")\n",
    "\n",
    "    # Puedes agregar operaciones adicionales aquí, como esperar a que la página cargue completamente\n",
    "    time.sleep(2)  # Ejemplo: Esperar 2 segundos (puedes ajustar según sea necesario)\n",
    "\n",
    "    # Obtener el contenido HTML de la página\n",
    "    page_source = driver.page_source\n",
    "\n",
    "    # Crear un objeto BeautifulSoup\n",
    "    soup = BeautifulSoup(page_source, 'html.parser')\n",
    "\n",
    "    # Encontrar las duraciones de los juegos\n",
    "    game_durations = soup.find_all('div', class_='length')\n",
    "\n",
    "    # Agregar las duraciones a la lista\n",
    "    for game_duration in game_durations:\n",
    "        duration_text = game_duration.text.strip()\n",
    "        all_game_durations.append(duration_text)\n",
    "\n",
    "# Crear un DataFrame de pandas con la lista de duraciones\n",
    "df = pd.DataFrame({'match time': all_game_durations})\n",
    "\n",
    "# Imprimir el DataFrame\n",
    "print(df)\n",
    "\n",
    "\n",
    "df.to_csv(r'G:\\Python scrapes\\OPGG\\gameDurationGold.csv', index = False)\n",
    "\n",
    "\n",
    "driver.quit()"
   ]
  },
  {
   "cell_type": "code",
   "execution_count": null,
   "id": "830bab1a",
   "metadata": {},
   "outputs": [],
   "source": []
  },
  {
   "cell_type": "code",
   "execution_count": null,
   "id": "d3f6a6b9",
   "metadata": {},
   "outputs": [],
   "source": [
    "#Segundo nivel. Sacamos los div.length de cinco url.\n",
    "from selenium import webdriver\n",
    "from selenium.webdriver.common.by import By\n",
    "from bs4 import BeautifulSoup\n",
    "import pandas as pd\n",
    "import time\n",
    "\n",
    "\n",
    "urls = [\n",
    "    'https://www.op.gg/summoners/las/Persewhnk-LAS',\n",
    "    'https://www.op.gg/summoners/las/ZytroXx-LAS',\n",
    "    'https://www.op.gg/summoners/las/Stiifler-LAS',\n",
    "    'https://www.op.gg/summoners/las/newhome150-LAS',\n",
    "    'https://www.op.gg/summoners/las/%C3%90olores%20Crotal-777'\n",
    "]\n",
    "driver = webdriver.Edge()\n",
    "\n",
    "\n",
    "all_game_durations = []\n",
    "\n",
    "\n",
    "for url in urls:\n",
    "    driver.get(url)\n",
    "    # Puedes agregar operaciones adicionales aquí, como esperar a que la página cargue completamente\n",
    "    time.sleep(2)  # Ejemplo: Esperar 2 segundos (puedes ajustar según sea necesario)\n",
    "\n",
    "    # Obtener el contenido HTML de la página\n",
    "    page_source = driver.page_source\n",
    "\n",
    "    # Crear un objeto BeautifulSoup\n",
    "    soup = BeautifulSoup(page_source, 'html.parser')\n",
    "\n",
    "    # Encontrar las duraciones de los juegos\n",
    "    game_durations = soup.find_all('div', class_='length')\n",
    "\n",
    "    # Agregar las duraciones a la lista\n",
    "    for game_duration in game_durations:\n",
    "        duration_text = game_duration.text.strip()\n",
    "        all_game_durations.append(duration_text)\n",
    "\n",
    "# Crear un DataFrame de pandas con la lista de duraciones\n",
    "df = pd.DataFrame({'match time': all_game_durations})\n",
    "\n",
    "# Imprimir el DataFrame\n",
    "print(df)\n",
    "\n",
    "\n",
    "df.to_csv(r'G:\\Python scrapes\\OPGG\\gameDurationGold.csv', index = False)\n",
    "\n",
    "\n",
    "driver.quit()\n"
   ]
  },
  {
   "cell_type": "code",
   "execution_count": null,
   "id": "a628fdb2",
   "metadata": {},
   "outputs": [],
   "source": []
  },
  {
   "cell_type": "code",
   "execution_count": null,
   "id": "09186734",
   "metadata": {},
   "outputs": [],
   "source": [
    "#el mas sencillo. Sacamos los div.length de una url\n",
    "from selenium import webdriver\n",
    "from selenium.webdriver.common.by import By\n",
    "from bs4 import BeautifulSoup"
   ]
  },
  {
   "cell_type": "code",
   "execution_count": null,
   "id": "7d313153",
   "metadata": {},
   "outputs": [],
   "source": [
    "driver = webdriver.Edge()\n",
    "driver.get('https://www.op.gg/summoners/las/the%20promise-star')"
   ]
  },
  {
   "cell_type": "code",
   "execution_count": 146,
   "id": "c131c607",
   "metadata": {},
   "outputs": [],
   "source": [
    "html = driver.page_source\n",
    "soup = BeautifulSoup(html, 'lxml')"
   ]
  },
  {
   "cell_type": "code",
   "execution_count": 147,
   "id": "0826d7e0",
   "metadata": {},
   "outputs": [
    {
     "name": "stdout",
     "output_type": "stream",
     "text": [
      "23m 5s\n",
      "29m 3s\n",
      "22m 7s\n",
      "33m 57s\n",
      "23m 19s\n",
      "27m 55s\n",
      "19m 59s\n",
      "15m 22s\n",
      "35m 5s\n",
      "20m 56s\n",
      "26m 16s\n",
      "31m 9s\n",
      "25m 12s\n",
      "31m 20s\n",
      "29m 34s\n",
      "29m 0s\n",
      "38m 31s\n",
      "9m 23s\n",
      "35m 59s\n",
      "25m 22s\n"
     ]
    }
   ],
   "source": [
    "game_durations = soup.find_all('div', class_='length')\n",
    "\n",
    "# Iteramos sobre los elementos y imprimimos solo el contenido\n",
    "for game_duration in game_durations:\n",
    "    print(game_duration.text.strip())"
   ]
  },
  {
   "cell_type": "code",
   "execution_count": 93,
   "id": "df44eb81",
   "metadata": {},
   "outputs": [],
   "source": [
    "import pandas as pd"
   ]
  },
  {
   "cell_type": "code",
   "execution_count": 138,
   "id": "4c71e4fd",
   "metadata": {},
   "outputs": [],
   "source": [
    "# Crear una lista vacía para almacenar las duraciones del juego\n",
    "game_durations_list = []"
   ]
  },
  {
   "cell_type": "code",
   "execution_count": 139,
   "id": "0026777c",
   "metadata": {},
   "outputs": [],
   "source": [
    "for game_duration in game_durations:\n",
    "    duration_text = game_duration.text.strip()\n",
    "    game_durations_list.append(duration_text)"
   ]
  },
  {
   "cell_type": "code",
   "execution_count": 140,
   "id": "8c4d856a",
   "metadata": {},
   "outputs": [],
   "source": [
    "df = pd.DataFrame({'match time': game_durations_list})"
   ]
  },
  {
   "cell_type": "code",
   "execution_count": 141,
   "id": "87816598",
   "metadata": {},
   "outputs": [
    {
     "name": "stdout",
     "output_type": "stream",
     "text": [
      "   match time\n",
      "0     36m 26s\n",
      "1     17m 32s\n",
      "2     28m 40s\n",
      "3     21m 49s\n",
      "4     31m 40s\n",
      "5     40m 21s\n",
      "6     27m 33s\n",
      "7     16m 27s\n",
      "8     28m 49s\n",
      "9      2m 58s\n",
      "10    26m 31s\n",
      "11     37m 6s\n",
      "12    28m 26s\n",
      "13     1m 48s\n",
      "14    18m 24s\n",
      "15    36m 39s\n",
      "16    27m 38s\n",
      "17    35m 48s\n",
      "18     1m 51s\n",
      "19    18m 52s\n"
     ]
    }
   ],
   "source": [
    "print(df)"
   ]
  },
  {
   "cell_type": "code",
   "execution_count": 134,
   "id": "65ba925e",
   "metadata": {},
   "outputs": [],
   "source": [
    "df.to_csv(r'G:\\Python scrapes\\OPGG\\gameDurationdiamond.csv', index = False)"
   ]
  },
  {
   "cell_type": "code",
   "execution_count": 159,
   "id": "1e0d97b5",
   "metadata": {},
   "outputs": [],
   "source": [
    "driver.quit()"
   ]
  },
  {
   "cell_type": "code",
   "execution_count": null,
   "id": "e7b7f2ca",
   "metadata": {},
   "outputs": [],
   "source": []
  },
  {
   "cell_type": "code",
   "execution_count": 86,
   "id": "868d831b",
   "metadata": {},
   "outputs": [
    {
     "name": "stdout",
     "output_type": "stream",
     "text": [
      "['20m 4s', '26m 15s', '35m 32s', '15m 12s', '27m 30s', '26m 33s', '23m 41s', '15m 26s', '31m 57s', '19m 17s', '28m 59s', '25m 21s', '28m 39s', '18m 41s', '18m 48s', '28m 15s', '26m 29s', '27m 15s', '30m 37s', '29m 17s']\n"
     ]
    }
   ],
   "source": [
    "#no lo use. pero es una lista rapida. \n",
    "game_durations = soup.find_all('div', class_='length')\n",
    "\n",
    "# Lista para almacenar las duraciones de los juegos\n",
    "match_time = [duration.text.strip() for duration in game_durations]\n",
    "\n",
    "# Imprimimos la lista\n",
    "print(match_time)"
   ]
  }
 ],
 "metadata": {
  "kernelspec": {
   "display_name": "Python 3 (ipykernel)",
   "language": "python",
   "name": "python3"
  },
  "language_info": {
   "codemirror_mode": {
    "name": "ipython",
    "version": 3
   },
   "file_extension": ".py",
   "mimetype": "text/x-python",
   "name": "python",
   "nbconvert_exporter": "python",
   "pygments_lexer": "ipython3",
   "version": "3.10.9"
  }
 },
 "nbformat": 4,
 "nbformat_minor": 5
}
